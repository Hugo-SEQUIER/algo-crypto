{
 "cells": [
  {
   "cell_type": "markdown",
   "metadata": {},
   "source": [
    "# Imports"
   ]
  },
  {
   "cell_type": "code",
   "execution_count": null,
   "metadata": {},
   "outputs": [],
   "source": [
    "import requests\n",
    "import pandas as pd\n",
    "import numpy as np\n",
    "import time\n",
    "import os\n",
    "from dotenv import load_dotenv\n",
    "from typing import Union"
   ]
  },
  {
   "cell_type": "code",
   "execution_count": null,
   "metadata": {},
   "outputs": [],
   "source": [
    "load_dotenv()\n",
    "\n",
    "API_KEY = os.getenv('API_KEY')"
   ]
  },
  {
   "cell_type": "markdown",
   "metadata": {},
   "source": [
    "# Functions"
   ]
  },
  {
   "cell_type": "code",
   "execution_count": null,
   "metadata": {},
   "outputs": [],
   "source": [
    "def get_top_500_tokens() -> pd.DataFrame:\n",
    "    url = \"https://api.coingecko.com/api/v3/coins/markets\"\n",
    "    parameters = {\n",
    "        'vs_currency': 'usd',\n",
    "        'order': 'market_cap_desc',\n",
    "        'per_page': 250,\n",
    "        'page': 1,\n",
    "        'price_change_percentage': '1h,24h,7d,30d'\n",
    "    }\n",
    "    \n",
    "    response_1 = requests.get(url, params=parameters)\n",
    "    data_1 = response_1.json()\n",
    "    \n",
    "    parameters['page'] = 2\n",
    "    response_2 = requests.get(url, params=parameters)\n",
    "    data_2 = response_2.json()\n",
    "    \n",
    "    data = data_1 + data_2\n",
    "    \n",
    "    df = pd.DataFrame(data)\n",
    "    \n",
    "    df = df[['id', 'name', 'current_price', 'market_cap', 'price_change_percentage_24h', 'price_change_percentage_7d_in_currency', 'price_change_percentage_30d_in_currency']]\n",
    "    \n",
    "    df.columns = ['ID', 'Name', 'Price', 'Market Cap', '1D %', '7D %', '30D %']\n",
    "    \n",
    "    return df"
   ]
  },
  {
   "cell_type": "code",
   "execution_count": null,
   "metadata": {},
   "outputs": [],
   "source": [
    "def get_historical_prices(crypto_id: str, vs_currency: str = 'usd', days: int = 180) -> list:\n",
    "    url = f\"https://api.coingecko.com/api/v3/coins/{crypto_id}/market_chart\"\n",
    "\n",
    "    headers = {\n",
    "        \"accept\": \"application/json\",\n",
    "        \"x-cg-demo-api-key\": API_KEY\n",
    "    }\n",
    "\n",
    "    params = {\n",
    "        'vs_currency': vs_currency,\n",
    "        'days': days,\n",
    "        'interval': 'daily',\n",
    "    }\n",
    "    \n",
    "    response = requests.get(url, headers=headers, params=params)\n",
    "    \n",
    "    if response.status_code != 200:\n",
    "        print(f\"Erreur lors de la récupération des prix pour {crypto_id}: {response.status_code}\")\n",
    "        return None\n",
    "    \n",
    "    data = response.json()\n",
    "    prices = data['prices']\n",
    "    \n",
    "    df_prices = pd.DataFrame(prices, columns=['timestamp', 'price'])\n",
    "    \n",
    "    return df_prices['price'].tolist()"
   ]
  },
  {
   "cell_type": "code",
   "execution_count": null,
   "metadata": {},
   "outputs": [],
   "source": [
    "def add_180_days_data(df_tokens):\n",
    "    days_columns = [f'Day_{i+1}' for i in range(181)]\n",
    "    df_prices = pd.DataFrame(columns=days_columns)\n",
    "    \n",
    "    for index, row in df_tokens.iterrows():\n",
    "        crypto_id = row['ID']\n",
    "        try:\n",
    "            prices = get_historical_prices(crypto_id)\n",
    "            if prices:\n",
    "                if len(prices) < 180:\n",
    "                    # Compléter avec None jusqu'à ce que la longueur soit 180\n",
    "                    prices.extend([None] * (181 - len(prices)))\n",
    "                # Ajouter les prix dans le DataFrame\n",
    "                df_prices.loc[index] = prices\n",
    "            else:\n",
    "                # Si prices est vide ou None, ajouter une ligne avec 180 None\n",
    "                df_prices.loc[index] = [None] * 181\n",
    "        except Exception as e:\n",
    "            print(f\"Erreur lors de la récupération des données pour {crypto_id}: {str(e)}\")\n",
    "            df_prices.loc[index] = [None] * 181\n",
    "        \n",
    "        time.sleep(1.5)\n",
    "    df_final = pd.concat([df_tokens.reset_index(drop=True), df_prices.reset_index(drop=True)], axis=1)\n",
    "\n",
    "    return df_final"
   ]
  },
  {
   "cell_type": "code",
   "execution_count": null,
   "metadata": {},
   "outputs": [],
   "source": [
    "def fill_missing_prices_with_mean(df):\n",
    "    \"\"\"\n",
    "    Remplace les cellules vides dans les colonnes des 180 jours de prix par la moyenne des prix non nuls.\n",
    "    :param df: DataFrame à nettoyer.\n",
    "    :return: DataFrame nettoyé avec les prix manquants remplis.\n",
    "    \"\"\"\n",
    "    # Liste des colonnes représentant les 180 jours de prix (Day_1 à Day_180)\n",
    "    price_columns = [f'Day_{i+1}' for i in range(180)]\n",
    "    \n",
    "    # Pour chaque ligne (chaque cryptomonnaie)\n",
    "    for index, row in df.iterrows():\n",
    "        # Extraire les prix de la ligne\n",
    "        prices = row[price_columns]\n",
    "        \n",
    "        # Calculer la moyenne des prix non nuls (en ignorant les None ou NaN)\n",
    "        mean_price = prices[prices.notna()].mean()\n",
    "        \n",
    "        # Remplacer les cellules vides (NaN) par la moyenne des prix non nuls\n",
    "        df.loc[index, price_columns] = prices.fillna(mean_price)\n",
    "    \n",
    "    return df\n"
   ]
  },
  {
   "cell_type": "code",
   "execution_count": null,
   "metadata": {},
   "outputs": [],
   "source": [
    "def calculate_daily_returns(prices):\n",
    "    \"\"\"\n",
    "    Calcule les rendements quotidiens à partir des prix disponibles.\n",
    "    Ignore les prix manquants (None ou NaN).\n",
    "    :param prices: Liste des prix journaliers.\n",
    "    :return: Liste des rendements quotidiens, en ignorant les valeurs manquantes.\n",
    "    \"\"\"\n",
    "    returns = []\n",
    "    for i in range(1, len(prices)):\n",
    "        if prices[i-1] is not None and prices[i] is not None and prices[i-1] != 0:\n",
    "            daily_return = (prices[i] - prices[i-1]) / prices[i-1]\n",
    "            returns.append(daily_return)\n",
    "    return returns"
   ]
  },
  {
   "cell_type": "code",
   "execution_count": null,
   "metadata": {},
   "outputs": [],
   "source": [
    "def calculate_volatility(daily_returns):\n",
    "    \"\"\"\n",
    "    Calcule la volatilité (écart-type) des rendements quotidiens disponibles.\n",
    "    :param daily_returns: Liste des rendements quotidiens.\n",
    "    :return: Volatilité (écart-type).\n",
    "    \"\"\"\n",
    "    if daily_returns:\n",
    "        return np.std(daily_returns)\n",
    "    return None"
   ]
  },
  {
   "cell_type": "code",
   "execution_count": null,
   "metadata": {},
   "outputs": [],
   "source": [
    "def calculate_risk_reward(expected_return, volatility):\n",
    "    \"\"\"\n",
    "    Calcule le ratio Risk-Reward à partir du rendement attendu et du risque.\n",
    "    :param expected_return: Rendement attendu (moyenne des rendements).\n",
    "    :param volatility: volatilité.\n",
    "    :return: Ratio Risk-Reward.\n",
    "    \"\"\"\n",
    "    if expected_return is not None and volatility is not None and volatility != 0:\n",
    "        return expected_return / volatility\n",
    "    return None"
   ]
  },
  {
   "cell_type": "code",
   "execution_count": null,
   "metadata": {},
   "outputs": [],
   "source": [
    "def calculate_dynamic_target(market_cap):\n",
    "    if market_cap > 100_000_000_000:  # Plus de 100 milliards\n",
    "        return 1.5  # +50%\n",
    "    elif market_cap > 10_000_000_000:  # Plus de 10 milliards\n",
    "        return 2  # x2\n",
    "    elif market_cap > 1_000_000_000:  # Plus de 1 milliard\n",
    "        return 3  # x3\n",
    "    else:\n",
    "        return 5  # x5 pour les plus petites capitalisations"
   ]
  },
  {
   "cell_type": "code",
   "execution_count": null,
   "metadata": {},
   "outputs": [],
   "source": [
    "def add_risk_reward_column(df):\n",
    "    \"\"\"\n",
    "    Ajoute une colonne 'Risk-Reward' au DataFrame en calculant le ratio pour chaque crypto\n",
    "    en utilisant uniquement les prix disponibles.\n",
    "    L'expected return est calculé comme étant le prix actuel multiplié par 5.\n",
    "    :param df: DataFrame contenant les 500 cryptos et leurs prix sur 180 jours.\n",
    "    :return: DataFrame avec la colonne 'Risk-Reward' ajoutée à la 6e position.\n",
    "    \"\"\"\n",
    "    risk_reward_values = []\n",
    "    \n",
    "    for _, row in df.iterrows():\n",
    "        # Extraire les prix journaliers (assumant que les colonnes Day_1 à Day_180 existent)\n",
    "        prices = [row[f'Day_{i+1}'] for i in range(180)]\n",
    "        \n",
    "        # Calcul des rendements journaliers\n",
    "        daily_returns = calculate_daily_returns(prices)\n",
    "        \n",
    "        # Calcul du risque (volatilité)\n",
    "        risk = calculate_volatility(daily_returns)\n",
    "        \n",
    "        # Expected Return est le prix actuel x5\n",
    "        expected_return = row['Price'] * calculate_dynamic_target(row['Market Cap'])\n",
    "        \n",
    "        # Calcul du Risk-Reward\n",
    "        risk_reward = calculate_risk_reward(expected_return, risk)\n",
    "        \n",
    "        # Ajouter le résultat au tableau\n",
    "        risk_reward_values.append(risk_reward)\n",
    "    \n",
    "    # Ajouter la colonne 'Risk-Reward' au DataFrame\n",
    "    df['Risk-Reward'] = risk_reward_values\n",
    "    cols = df.columns.tolist()\n",
    "    \n",
    "    # Placer 'Risk-Reward' à la 6e position\n",
    "    cols.insert(4, cols.pop(cols.index('Risk-Reward')))\n",
    "    df = df[cols]\n",
    "    \n",
    "    return df"
   ]
  },
  {
   "cell_type": "code",
   "execution_count": null,
   "metadata": {},
   "outputs": [],
   "source": [
    "def clear_rows_with_keywords(df, keywords):\n",
    "    \"\"\"\n",
    "    Supprime les lignes où le 'Name' contient un des mots clés.\n",
    "    :param df: DataFrame à nettoyer.\n",
    "    :param keywords: Liste de mots clés à exclure.\n",
    "    :return: DataFrame nettoyé.\n",
    "    \"\"\"\n",
    "    # Appliquer un filtre pour exclure les lignes où 'Name' contient un des mots clés\n",
    "    df_cleaned = df[~df['Name'].apply(lambda x: any(keyword in x.lower() for keyword in keywords))]\n",
    "    \n",
    "    return df_cleaned"
   ]
  },
  {
   "cell_type": "code",
   "execution_count": null,
   "metadata": {},
   "outputs": [],
   "source": [
    "def add_marketcap_rank(df):\n",
    "    \"\"\"\n",
    "    Ajoute une colonne 'MarketCap Rank' indiquant le classement des tokens en fonction de leur Market Cap.\n",
    "    :param df: DataFrame contenant la colonne 'Market Cap'.\n",
    "    :return: DataFrame avec la colonne 'MarketCap Rank' ajoutée.\n",
    "    \"\"\"\n",
    "    # Calculer le rang en fonction de la Market Cap (classement décroissant)\n",
    "    df['MarketCap Rank'] = df['Market Cap'].rank(ascending=False, method='min').astype(int)\n",
    "    cols = df.columns.tolist()\n",
    "    # Placer 'Risk-Reward' à la 6e position\n",
    "    cols.insert(5, cols.pop(cols.index('MarketCap Rank')))\n",
    "    df = df[cols]\n",
    "    return df"
   ]
  },
  {
   "cell_type": "code",
   "execution_count": null,
   "metadata": {},
   "outputs": [],
   "source": [
    "def calculate_momentum_score(df):\n",
    "    df['Momentum'] = (\n",
    "        0.5 * df['1D %'] +\n",
    "        0.3 * df['7D %'] +\n",
    "        0.2 * df['30D %']\n",
    "    )\n",
    "    return df"
   ]
  },
  {
   "cell_type": "code",
   "execution_count": null,
   "metadata": {},
   "outputs": [],
   "source": [
    "def calculate_token_score(df, investment=100, alpha=0.4, beta=0.3, gamma=0.3):\n",
    "    df = calculate_momentum_score(df)\n",
    "    \n",
    "    # Calculer le gain potentiel sur 30 jours\n",
    "    df['Potential_Gain'] = (df['Price'] * (1 + df['30D %'] / 100) - df['Price']) * (investment / df['Price'])\n",
    "    \n",
    "    # Normaliser les valeurs\n",
    "    df['RR_normalized'] = (df['Risk-Reward'] - df['Risk-Reward'].min()) / (df['Risk-Reward'].max() - df['Risk-Reward'].min())\n",
    "    df['MarketCap_normalized'] = (df['Market Cap'] - df['Market Cap'].min()) / (df['Market Cap'].max() - df['Market Cap'].min())\n",
    "    df['Momentum_normalized'] = (df['Momentum'] - df['Momentum'].min()) / (df['Momentum'].max() - df['Momentum'].min())\n",
    "    df['Potential_Gain_normalized'] = (df['Potential_Gain'] - df['Potential_Gain'].min()) / (df['Potential_Gain'].max() - df['Potential_Gain'].min())\n",
    "    \n",
    "    # Calculer le score\n",
    "    df['Score'] = (\n",
    "        alpha * df['RR_normalized'] +\n",
    "        beta * df['MarketCap_normalized'] +\n",
    "        gamma * df['Momentum_normalized'] +\n",
    "        0.4 * df['Potential_Gain_normalized']  # Ajouter le gain potentiel au score\n",
    "    )\n",
    "    \n",
    "    return df.sort_values('Score', ascending=False).reset_index(drop=True)"
   ]
  },
  {
   "cell_type": "markdown",
   "metadata": {},
   "source": [
    "# Code"
   ]
  },
  {
   "cell_type": "code",
   "execution_count": null,
   "metadata": {},
   "outputs": [],
   "source": [
    "df_tokens = get_top_500_tokens()"
   ]
  },
  {
   "cell_type": "code",
   "execution_count": null,
   "metadata": {},
   "outputs": [],
   "source": [
    "df_tokens_with_180_days = add_180_days_data(df_tokens)"
   ]
  },
  {
   "cell_type": "code",
   "execution_count": null,
   "metadata": {},
   "outputs": [],
   "source": [
    "df_tokens_with_180_days = fill_missing_prices_with_mean(df_tokens_with_180_days)"
   ]
  },
  {
   "cell_type": "code",
   "execution_count": null,
   "metadata": {},
   "outputs": [],
   "source": [
    "print(df_tokens_with_180_days.head())"
   ]
  },
  {
   "cell_type": "code",
   "execution_count": null,
   "metadata": {},
   "outputs": [],
   "source": [
    "df_tokens_with_180_days.to_excel('top_500_tokens_with_180_days.xlsx', index=False)"
   ]
  },
  {
   "cell_type": "code",
   "execution_count": null,
   "metadata": {},
   "outputs": [],
   "source": [
    "df_tokens_with_180_days = pd.read_excel('./top_500_tokens_with_180_days.xlsx')"
   ]
  },
  {
   "cell_type": "code",
   "execution_count": null,
   "metadata": {},
   "outputs": [],
   "source": [
    "df_tokens_with_180_days.head()"
   ]
  },
  {
   "cell_type": "code",
   "execution_count": null,
   "metadata": {},
   "outputs": [],
   "source": [
    "df_tokens_with_risk_reward = add_risk_reward_column(df_tokens_with_180_days)\n",
    "\n",
    "# Sauvegarder dans un fichier Excel si nécessaire\n",
    "df_tokens_with_risk_reward.to_excel('top_500_tokens_with_risk_reward_180.xlsx', index=False)"
   ]
  },
  {
   "cell_type": "code",
   "execution_count": null,
   "metadata": {},
   "outputs": [],
   "source": [
    "keywords_to_exclude = ['wrapped', 'usd', 'tether', 'usdt', 'bridged', 'staked', 'weth', 'wbtc', 'btc']\n",
    "\n",
    "# Nettoyer le DataFrame en supprimant les lignes indésirables\n",
    "df_cleaned = clear_rows_with_keywords(df_tokens_with_risk_reward, keywords_to_exclude)\n",
    "\n",
    "# Sauvegarder le DataFrame nettoyé dans un nouveau fichier Excel\n",
    "df_cleaned.to_excel('top_500_tokens_cleaned_180.xlsx', index=False)\n",
    "\n",
    "print(\"Fichier nettoyé et sauvegardé sous 'top_500_tokens_cleaned.xlsx'\")"
   ]
  },
  {
   "cell_type": "code",
   "execution_count": null,
   "metadata": {},
   "outputs": [],
   "source": [
    "df_ranked_tokens = add_marketcap_rank(df_cleaned)\n",
    "df_ranked_tokens = calculate_token_score(df_ranked_tokens)\n",
    "\n",
    "# Sauvegarder le DataFrame classé par score dans un nouveau fichier Excel\n",
    "df_ranked_tokens.to_excel('top_500_tokens_ranked_by_score_180.xlsx', index=False)\n",
    "\n",
    "print(\"Tokens classés par score et sauvegardés dans 'top_500_tokens_new_ranked_by_score.xlsx'\")"
   ]
  },
  {
   "cell_type": "code",
   "execution_count": null,
   "metadata": {},
   "outputs": [],
   "source": []
  }
 ],
 "metadata": {
  "kernelspec": {
   "display_name": "Python 3",
   "language": "python",
   "name": "python3"
  },
  "language_info": {
   "codemirror_mode": {
    "name": "ipython",
    "version": 3
   },
   "file_extension": ".py",
   "mimetype": "text/x-python",
   "name": "python",
   "nbconvert_exporter": "python",
   "pygments_lexer": "ipython3",
   "version": "3.9.13"
  }
 },
 "nbformat": 4,
 "nbformat_minor": 2
}
